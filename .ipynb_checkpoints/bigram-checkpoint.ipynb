{
 "cells": [
  {
   "cell_type": "code",
   "execution_count": 54,
   "id": "89d07076-67f5-46d0-94e3-a0731573e454",
   "metadata": {},
   "outputs": [
    {
     "name": "stdout",
     "output_type": "stream",
     "text": [
      "cpu\n"
     ]
    }
   ],
   "source": [
    "import torch ##it does the linear algebra\n",
    "import torch.nn as nn\n",
    "from torch.nn import functional as F\n",
    "device  ='cuda' if torch.cuda.is_available() else 'cpu'\n",
    "print(device)\n",
    "block_size = 8 #length of integer\n",
    "batch_size = 4 #how many run in parallel\n",
    "max_iters = 1000\n",
    "# eval_interval = 2500\n",
    "learning_rate = 3e-4\n",
    "eval_iters = 250\n"
   ]
  },
  {
   "cell_type": "code",
   "execution_count": 55,
   "id": "dbfcd01d-8d8c-4132-b1e5-9b10d44ee725",
   "metadata": {},
   "outputs": [
    {
     "name": "stdout",
     "output_type": "stream",
     "text": [
      "['\\n', ' ', '!', '\"', '&', \"'\", '(', ')', '*', ',', '-', '.', '0', '1', '2', '3', '4', '5', '6', '7', '8', '9', ':', ';', '?', 'A', 'B', 'C', 'D', 'E', 'F', 'G', 'H', 'I', 'J', 'K', 'L', 'M', 'N', 'O', 'P', 'Q', 'R', 'S', 'T', 'U', 'V', 'W', 'X', 'Y', 'Z', '[', ']', '_', 'a', 'b', 'c', 'd', 'e', 'f', 'g', 'h', 'i', 'j', 'k', 'l', 'm', 'n', 'o', 'p', 'q', 'r', 's', 't', 'u', 'v', 'w', 'x', 'y', 'z']\n"
     ]
    }
   ],
   "source": [
    "with open('wizard_of_oz.txt', 'r', encoding='utf-8') as f:\n",
    "    text = f.read()\n",
    "chars = sorted(set(text))\n",
    "print(chars)\n",
    "vocab_size = len(chars)"
   ]
  },
  {
   "cell_type": "code",
   "execution_count": 56,
   "id": "bcd5f604-872e-4583-8ead-77c5b177e082",
   "metadata": {},
   "outputs": [],
   "source": [
    "##we will use a tokenizer it consist of encoder and decorder...encorder converts all the chars of the array into integer \n",
    "string_to_int = { ch:i for i,ch in enumerate(chars) }\n",
    "int_to_string = { i:ch for i,ch in enumerate(chars) }\n",
    "encode = lambda s: [string_to_int[c] for c in s]\n",
    "decode = lambda l: ''.join([int_to_string[i] for i in l])\n",
    "\"\"\"encoded_hello = encode('hello') #converts hello into integer\n",
    "decoded_hello = decode(encoded_hello) \n",
    "print(decoded_hello)\n",
    "The above is a character tokenizer ie it converts each character so we can't use it since it will have a big data\n",
    "\n",
    "\"\"\"\n",
    "\n",
    "data  = torch.tensor(encode(text),dtype = torch.long)\n",
    "\n",
    "\n"
   ]
  },
  {
   "cell_type": "code",
   "execution_count": 57,
   "id": "ff97f98a-b6e1-4f56-9dc9-8daaaa831878",
   "metadata": {},
   "outputs": [
    {
     "name": "stdout",
     "output_type": "stream",
     "text": [
      "inputs:\n",
      "tensor([[68, 66, 58, 65, 62, 64, 58,  9],\n",
      "        [57, 72, 24,  3,  0,  0,  3, 49],\n",
      "        [68, 75, 58, 71,  1, 73, 61, 58],\n",
      "        [58,  1, 57, 68, 66, 58,  1, 54]])\n",
      "targets:\n",
      "tensor([[66, 58, 65, 62, 64, 58,  9,  3],\n",
      "        [72, 24,  3,  0,  0,  3, 49, 68],\n",
      "        [75, 58, 71,  1, 73, 61, 58, 62],\n",
      "        [ 1, 57, 68, 66, 58,  1, 54, 67]])\n"
     ]
    }
   ],
   "source": [
    "n = int(0.8*len(data))\n",
    "train_data = data[:n]\n",
    "val_data = data[n:]\n",
    "\n",
    "def get_batch(split):\n",
    "    data = train_data if split == 'train' else val_data\n",
    "    ix = torch.randint(len(data) - block_size, (batch_size,))\n",
    "    \n",
    "    x = torch.stack([data[i:i+block_size] for i in ix])\n",
    "    y = torch.stack([data[i+1:i+block_size+1] for i in ix])\n",
    "    x, y = x.to(device), y.to(device)\n",
    "    return x, y\n",
    "x, y = get_batch('train')\n",
    "print('inputs:')\n",
    "# print(x.shape)\n",
    "print(x)\n",
    "print('targets:')\n",
    "print(y)\n",
    "\n",
    "\n",
    "\n"
   ]
  },
  {
   "cell_type": "code",
   "execution_count": 58,
   "id": "8a874aad-410b-4e2a-bd26-7218b4140379",
   "metadata": {},
   "outputs": [
    {
     "name": "stdout",
     "output_type": "stream",
     "text": [
      "When input is tensor([28]) target is tensor(39)\n",
      "When input is tensor([28, 39]) target is tensor(42)\n",
      "When input is tensor([28, 39, 42]) target is tensor(39)\n",
      "When input is tensor([28, 39, 42, 39]) target is tensor(44)\n",
      "When input is tensor([28, 39, 42, 39, 44]) target is tensor(32)\n",
      "When input is tensor([28, 39, 42, 39, 44, 32]) target is tensor(49)\n",
      "When input is tensor([28, 39, 42, 39, 44, 32, 49]) target is tensor(1)\n",
      "When input is tensor([28, 39, 42, 39, 44, 32, 49,  1]) target is tensor(25)\n"
     ]
    }
   ],
   "source": [
    "\n",
    "\n",
    "x = train_data[:block_size]\n",
    "y = train_data[1:block_size + 1]\n",
    "\n",
    "for t in range(block_size):\n",
    "    context= x[:t+1]\n",
    "    target = y[t]\n",
    "    print('When input is',context,'target is',target)"
   ]
  },
  {
   "cell_type": "code",
   "execution_count": 62,
   "id": "aaef0b89-16b6-4a13-a9ff-9da282c6ebf7",
   "metadata": {},
   "outputs": [],
   "source": [
    "@torch.no_grad()\n",
    "def estimate_loss():\n",
    "    out = {}\n",
    "    model.eval()\n",
    "    for split in ['train', 'val']:\n",
    "        losses = torch.zeros(eval_iters)\n",
    "        for k in range(eval_iters):\n",
    "            X, Y = get_batch(split)\n",
    "            logits, loss = model(X, Y)\n",
    "            losses[k] = loss.item()\n",
    "        out[split] = losses.mean()\n",
    "    model.train()\n",
    "    return out\n"
   ]
  },
  {
   "cell_type": "code",
   "execution_count": 59,
   "id": "2516dbf0-a6cf-496e-b3f6-90555fac8588",
   "metadata": {},
   "outputs": [
    {
     "name": "stdout",
     "output_type": "stream",
     "text": [
      "\n",
      "5_oP&_w!mJqcGO6O;\n",
      "d'v[g,jnlKpKpccE0]qfXv(.[J8FZDg4lH:fn1:;3fJ[2gepKPFgm_)Z-97Sc4) kGI,sGY.w)LQOxR8HGy7g\n",
      "Y?1em-C(6!4]DT]Z.bNO*AaLFLhm6bfaI.O.'-I)aL&Gj1;g?:f2Xyj5Z&jg YwY-8VFC)b[w,DioPO)OgoT\n",
      "Gd*tTBdZAD4f'cBk!6aRS(QXtLcJkRyQFm_9H!UrYlj.xl-TmJT_F,K\"9]qH!R7xxdGOyLzxdK8FuS?D*J,,AmO[nYg68_P?P5PqBpsmITyS8BRbNo_kMRyPpOA0*b&jRbXEYB_oA;71DbQGpg;V]_CWwqyGkE0nKrOm\n",
      "KYoDQ(n0dBWCZ9]v_VBsxBCqBcqSaF_(FmAf7_[]dQbmJinlaRvJHu2?FvyumlXGnH:PW!R7Oeu_tvgo'I6bd]usuwaL&J\"\n",
      "cmNOkL,,6b,a[jD7bs8euBri*F2JQ!r[Q?:N !Ug,su2mh.kLD\n"
     ]
    }
   ],
   "source": [
    "class BigramLanguageModel(nn.Module):\n",
    "    def __init__(self, vocab_size):\n",
    "        super().__init__()\n",
    "        self.token_embedding_table = nn.Embedding(vocab_size, vocab_size)\n",
    "        \n",
    "    def forward(self, index, targets=None):\n",
    "        logits = self.token_embedding_table(index)\n",
    "        \n",
    "        \n",
    "        if targets is None:\n",
    "            loss = None\n",
    "        else:\n",
    "            B, T, C = logits.shape\n",
    "            logits = logits.view(B*T, C)\n",
    "            targets = targets.view(B*T)\n",
    "            loss = F.cross_entropy(logits, targets)\n",
    "        \n",
    "        return logits, loss\n",
    "    \n",
    "    def generate(self, index, max_new_tokens):\n",
    "        # index is (B, T) array of indices in the current context\n",
    "        for _ in range(max_new_tokens):\n",
    "            # get the predictions\n",
    "            logits, loss = self.forward(index)\n",
    "            # focus only on the last time step\n",
    "            logits = logits[:, -1, :] # becomes (B, C)\n",
    "            # apply softmax to get probabilities\n",
    "            probs = F.softmax(logits, dim=-1) # (B, C)\n",
    "            # sample from the distribution\n",
    "            index_next = torch.multinomial(probs, num_samples=1) # (B, 1)\n",
    "            # append sampled index to the running sequence\n",
    "            index = torch.cat((index, index_next), dim=1) # (B, T+1)\n",
    "        return index\n",
    "\n",
    "model = BigramLanguageModel(vocab_size)\n",
    "m = model.to(device)\n",
    "\n",
    "context = torch.zeros((1,1), dtype=torch.long, device=device)\n",
    "generated_chars = decode(m.generate(context, max_new_tokens=500)[0].tolist())\n",
    "print(generated_chars)"
   ]
  },
  {
   "cell_type": "code",
   "execution_count": 66,
   "id": "4cfb5057-2e40-4287-bc0d-e7790fdd1672",
   "metadata": {},
   "outputs": [
    {
     "name": "stdout",
     "output_type": "stream",
     "text": [
      "step: 0, train loss: 4.635, val loss: 4.632\n",
      "step: 250, train loss: 4.573, val loss: 4.573\n",
      "step: 500, train loss: 4.495, val loss: 4.509\n",
      "step: 750, train loss: 4.439, val loss: 4.476\n",
      "4.3071441650390625\n"
     ]
    }
   ],
   "source": [
    "# create a PyTorch optimizer\n",
    "optimizer = torch.optim.AdamW(model.parameters(), lr=learning_rate)\n",
    "\n",
    "for iter in range(max_iters):\n",
    "    if iter % eval_iters == 0:\n",
    "        losses = estimate_loss()\n",
    "        print(f\"step: {iter}, train loss: {losses['train']:.3f}, val loss: {losses['val']:.3f}\")\n",
    "\n",
    "    # sample a batch of data\n",
    "    xb, yb = get_batch('train')\n",
    "\n",
    "    # evaluate the loss\n",
    "    logits, loss = model.forward(xb, yb)\n",
    "    optimizer.zero_grad(set_to_none=True)\n",
    "    loss.backward()\n",
    "    optimizer.step()\n",
    "print(loss.item())"
   ]
  },
  {
   "cell_type": "code",
   "execution_count": null,
   "id": "7e07e31a-43ca-4634-a244-2bd7966e7f2a",
   "metadata": {},
   "outputs": [],
   "source": [
    "\"\"need to familiarize audience with optimizers (AdamW, Adam, SGD, MSE…) no need to jump into the formulas, just what the optimizer does for us and some of the differences/similarities between them\n",
    "\n",
    "Mean Squared Error (MSE): MSE is a common loss function used in regression problems, where the goal is to predict a continuous output. It measures the average squared difference between the predicted and actual values, and is often used to train neural networks for regression tasks.\n",
    "Gradient Descent (GD): is an optimization algorithm used to minimize the loss function of a machine learning model. The loss function measures how well the model is able to predict the target variable based on the input features. The idea of GD is to iteratively adjust the model parameters in the direction of the steepest descent of the loss function\n",
    "Momentum: Momentum is an extension of SGD that adds a \"momentum\" term to the parameter updates. This term helps smooth out the updates and allows the optimizer to continue moving in the right direction, even if the gradient changes direction or varies in magnitude. Momentum is particularly useful for training deep neural networks.\n",
    "RMSprop: RMSprop is an optimization algorithm that uses a moving average of the squared gradient to adapt the learning rate of each parameter. This helps to avoid oscillations in the parameter updates and can improve convergence in some cases.\n",
    "Adam: Adam is a popular optimization algorithm that combines the ideas of momentum and RMSprop. It uses a moving average of both the gradient and its squared value to adapt the learning rate of each parameter. Adam is often used as a default optimizer for deep learning models.\n",
    "AdamW: AdamW is a modification of the Adam optimizer that adds weight decay to the parameter updates. This helps to regularize the model and can improve generalization performance. We will be using the AdamW optimizer as it best suits the properties of the model we will train in this video.\n",
    "find more optimizers and details at torch.optim\"\"\""
   ]
  }
 ],
 "metadata": {
  "kernelspec": {
   "display_name": "gpt kernal",
   "language": "python",
   "name": "myenv"
  },
  "language_info": {
   "codemirror_mode": {
    "name": "ipython",
    "version": 3
   },
   "file_extension": ".py",
   "mimetype": "text/x-python",
   "name": "python",
   "nbconvert_exporter": "python",
   "pygments_lexer": "ipython3",
   "version": "3.12.4"
  }
 },
 "nbformat": 4,
 "nbformat_minor": 5
}
