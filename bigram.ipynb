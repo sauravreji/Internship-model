{
 "cells": [
  {
   "cell_type": "code",
   "execution_count": 61,
   "id": "89d07076-67f5-46d0-94e3-a0731573e454",
   "metadata": {},
   "outputs": [
    {
     "name": "stdout",
     "output_type": "stream",
     "text": [
      "cpu\n"
     ]
    }
   ],
   "source": [
    "import torch ##it does the linear algebra\n",
    "device  ='cuda' if torch.cuda.is_available() else 'cpu'\n",
    "print(device)\n",
    "block_size = 8\n",
    "batch_size = 4"
   ]
  },
  {
   "cell_type": "code",
   "execution_count": 20,
   "id": "dbfcd01d-8d8c-4132-b1e5-9b10d44ee725",
   "metadata": {},
   "outputs": [
    {
     "name": "stdout",
     "output_type": "stream",
     "text": [
      "['\\n', ' ', '!', '\"', '&', \"'\", '(', ')', '*', ',', '-', '.', '0', '1', '2', '3', '4', '5', '6', '7', '8', '9', ':', ';', '?', 'A', 'B', 'C', 'D', 'E', 'F', 'G', 'H', 'I', 'J', 'K', 'L', 'M', 'N', 'O', 'P', 'Q', 'R', 'S', 'T', 'U', 'V', 'W', 'X', 'Y', 'Z', '[', ']', '_', 'a', 'b', 'c', 'd', 'e', 'f', 'g', 'h', 'i', 'j', 'k', 'l', 'm', 'n', 'o', 'p', 'q', 'r', 's', 't', 'u', 'v', 'w', 'x', 'y', 'z']\n"
     ]
    }
   ],
   "source": [
    "with open('wizard_of_oz.txt', 'r', encoding='utf-8') as f:\n",
    "    text = f.read()\n",
    "chars = sorted(set(text))\n",
    "print(chars)\n",
    "vocab_size = len(chars)"
   ]
  },
  {
   "cell_type": "code",
   "execution_count": 47,
   "id": "bcd5f604-872e-4583-8ead-77c5b177e082",
   "metadata": {},
   "outputs": [],
   "source": [
    "##we will use a tokenizer it consist of encoder and decorder...encorder converts all the chars of the array into integer \n",
    "string_to_int = { ch:i for i,ch in enumerate(chars) }\n",
    "int_to_string = { i:ch for i,ch in enumerate(chars) }\n",
    "encode = lambda s: [string_to_int[c] for c in s]\n",
    "decode = lambda l: ''.join([int_to_string[i] for i in l])\n",
    "\"\"\"encoded_hello = encode('hello') #converts hello into integer\n",
    "decoded_hello = decode(encoded_hello) \n",
    "print(decoded_hello)\n",
    "The above is a character tokenizer ie it converts each character so we can't use it since it will have a big data\n",
    "\n",
    "\"\"\"\n",
    "\n",
    "data  = torch.tensor(encode(text),dtype = torch.long)\n",
    "\n",
    "\n"
   ]
  },
  {
   "cell_type": "code",
   "execution_count": 49,
   "id": "ff97f98a-b6e1-4f56-9dc9-8daaaa831878",
   "metadata": {},
   "outputs": [],
   "source": [
    "n = int(0.8*len(data))\n",
    "train_data = data[:n]\n",
    "val_data = data[n:]\n",
    "\n",
    "\n"
   ]
  },
  {
   "cell_type": "code",
   "execution_count": 53,
   "id": "8a874aad-410b-4e2a-bd26-7218b4140379",
   "metadata": {},
   "outputs": [
    {
     "name": "stdout",
     "output_type": "stream",
     "text": [
      "When input is tensor([28]) target is tensor(39)\n",
      "When input is tensor([28, 39]) target is tensor(42)\n",
      "When input is tensor([28, 39, 42]) target is tensor(39)\n",
      "When input is tensor([28, 39, 42, 39]) target is tensor(44)\n",
      "When input is tensor([28, 39, 42, 39, 44]) target is tensor(32)\n",
      "When input is tensor([28, 39, 42, 39, 44, 32]) target is tensor(49)\n",
      "When input is tensor([28, 39, 42, 39, 44, 32, 49]) target is tensor(1)\n",
      "When input is tensor([28, 39, 42, 39, 44, 32, 49,  1]) target is tensor(25)\n"
     ]
    }
   ],
   "source": [
    "\n",
    "\n",
    "x = train_data[:block_size]\n",
    "y = train_data[1:block_size + 1]\n",
    "\n",
    "for t in range(block_size):\n",
    "    context= x[:t+1]\n",
    "    target = y[t]\n",
    "    print('When input is',context,'target is',target)"
   ]
  },
  {
   "cell_type": "code",
   "execution_count": null,
   "id": "2516dbf0-a6cf-496e-b3f6-90555fac8588",
   "metadata": {},
   "outputs": [],
   "source": []
  }
 ],
 "metadata": {
  "kernelspec": {
   "display_name": "Python 3 (ipykernel)",
   "language": "python",
   "name": "python3"
  },
  "language_info": {
   "codemirror_mode": {
    "name": "ipython",
    "version": 3
   },
   "file_extension": ".py",
   "mimetype": "text/x-python",
   "name": "python",
   "nbconvert_exporter": "python",
   "pygments_lexer": "ipython3",
   "version": "3.12.4"
  }
 },
 "nbformat": 4,
 "nbformat_minor": 5
}
